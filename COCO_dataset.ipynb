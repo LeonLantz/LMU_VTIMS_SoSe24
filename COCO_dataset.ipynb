{
 "cells": [
  {
   "cell_type": "markdown",
   "metadata": {},
   "source": [
    "📝 Creative Commons Attribution-NonCommercial-ShareAlike 4.0 International License"
   ]
  },
  {
   "cell_type": "markdown",
   "metadata": {},
   "source": [
    "# **COCO Dataset** 🖼️\n",
    "https://cocodataset.org/\n",
    "\n",
    "- mehr als 200.000 reale Bilder aus unterschiedlichsten Szenarien\n",
    "- unterteilt in 80 Kategorien (Personen, Fahrzeuge, Tiere, ...)\n",
    "- jedes Bild detailliert annotiert, unter anderem mit Bildunterschriften (Captions)\n"
   ]
  },
  {
   "cell_type": "markdown",
   "metadata": {},
   "source": [
    "### **(1) Dataset herunterladen und entpacken**"
   ]
  },
  {
   "cell_type": "code",
   "execution_count": null,
   "metadata": {},
   "outputs": [],
   "source": [
    "import os\n",
    "import requests\n",
    "import zipfile\n",
    "\n",
    "# URLs für das COCO Dataset\n",
    "base_url = \"http://images.cocodataset.org/\"\n",
    "files = {\n",
    "    \"train_images\": \"zips/train2017.zip\",\n",
    "    \"val_images\": \"zips/val2017.zip\",\n",
    "    \"annotations\": \"annotations/annotations_trainval2017.zip\"\n",
    "}\n",
    "\n",
    "# Zielverzeichnis\n",
    "dataset_dir = \"coco_dataset\"\n",
    "\n",
    "# Überprüfen, ob das Verzeichnis bereits existiert\n",
    "if not os.path.exists(dataset_dir):\n",
    "    os.makedirs(dataset_dir)\n",
    "    print(f\"Verzeichnis erstellt: {dataset_dir}\")\n",
    "else:\n",
    "    print(f\"Verzeichnis existiert bereits: {dataset_dir}\")\n",
    "\n",
    "def download_and_extract(url, dest_dir):\n",
    "    # Dateiname\n",
    "    file_name = url.split(\"/\")[-1]\n",
    "    file_path = os.path.join(dest_dir, file_name)\n",
    "    \n",
    "    # Datei herunterladen\n",
    "    response = requests.get(url, stream=True)\n",
    "    total_size = int(response.headers.get('content-length', 0))\n",
    "    print(f\"Größe der Datei {file_name}: {total_size / (1024 * 1024):.2f} MB\")\n",
    "    \n",
    "    block_size = 1024  # 1 KB\n",
    "    with open(file_path, 'wb') as file:\n",
    "        for data in response.iter_content(block_size):\n",
    "            file.write(data)\n",
    "    \n",
    "    # Datei extrahieren\n",
    "    with zipfile.ZipFile(file_path, 'r') as zip_ref:\n",
    "        zip_ref.extractall(dest_dir)\n",
    "    \n",
    "    # ZIP-Datei entfernen\n",
    "    os.remove(file_path)\n",
    "\n",
    "# Dateien nur herunterladen und extrahieren, wenn das Verzeichnis nicht existiert\n",
    "if not os.path.exists(dataset_dir):\n",
    "    for key, relative_url in files.items():\n",
    "        url = base_url + relative_url\n",
    "        print(f\"Herunterladen und extrahieren: {url}\")\n",
    "        download_and_extract(url, dataset_dir)\n",
    "else:\n",
    "    print(\"Download wird übersprungen, da das Verzeichnis bereits existiert.\")"
   ]
  }
 ],
 "metadata": {
  "kernelspec": {
   "display_name": "stable_diffusion",
   "language": "python",
   "name": "python3"
  },
  "language_info": {
   "codemirror_mode": {
    "name": "ipython",
    "version": 3
   },
   "file_extension": ".py",
   "mimetype": "text/x-python",
   "name": "python",
   "nbconvert_exporter": "python",
   "pygments_lexer": "ipython3",
   "version": "3.9.19"
  }
 },
 "nbformat": 4,
 "nbformat_minor": 2
}
