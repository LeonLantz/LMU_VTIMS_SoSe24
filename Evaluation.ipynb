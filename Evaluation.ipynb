{
 "cells": [
  {
   "cell_type": "markdown",
   "metadata": {},
   "source": [
    "# **🔍 Evaluation der erzeugten Datensätze**"
   ]
  },
  {
   "cell_type": "code",
   "execution_count": null,
   "metadata": {
    "vscode": {
     "languageId": "shellscript"
    }
   },
   "outputs": [],
   "source": [
    "!pip install pytorch-fid"
   ]
  },
  {
   "cell_type": "markdown",
   "metadata": {},
   "source": [
    "**Real Faces**"
   ]
  },
  {
   "cell_type": "code",
   "execution_count": null,
   "metadata": {
    "vscode": {
     "languageId": "shellscript"
    }
   },
   "outputs": [],
   "source": [
    "!python -m pytorch_fid results/faces_real0/ results/faces_real1/ --device cuda:0"
   ]
  },
  {
   "cell_type": "markdown",
   "metadata": {},
   "source": [
    "**Stable Diffusion 1.1**"
   ]
  },
  {
   "cell_type": "code",
   "execution_count": null,
   "metadata": {
    "vscode": {
     "languageId": "shellscript"
    }
   },
   "outputs": [],
   "source": [
    "!python -m pytorch_fid results/faces_real0/ results/faces_sd11 --device cuda:0"
   ]
  },
  {
   "cell_type": "markdown",
   "metadata": {},
   "source": [
    "**Stable Diffusion 1.4**"
   ]
  },
  {
   "cell_type": "code",
   "execution_count": null,
   "metadata": {
    "vscode": {
     "languageId": "shellscript"
    }
   },
   "outputs": [],
   "source": [
    "!python -m pytorch_fid results/faces_real0/ results/faces_sd14 --device cuda:0"
   ]
  },
  {
   "cell_type": "markdown",
   "metadata": {},
   "source": [
    "**Stable Diffusion XL**"
   ]
  },
  {
   "cell_type": "code",
   "execution_count": null,
   "metadata": {
    "vscode": {
     "languageId": "shellscript"
    }
   },
   "outputs": [],
   "source": [
    "!python -m pytorch_fid results/faces_real0/ results/faces_sdxl --device cuda:0"
   ]
  },
  {
   "cell_type": "markdown",
   "metadata": {},
   "source": [
    "## 📝 **Alternative Implementierung**"
   ]
  },
  {
   "cell_type": "code",
   "execution_count": null,
   "metadata": {},
   "outputs": [],
   "source": [
    "import torch\n",
    "from pytorch_fid import fid_score\n",
    "\n",
    "# Pfade zu den Verzeichnissen mit echten und generierten Bildern\n",
    "pfad_echte_bilder = 'results/faces_real0/'\n",
    "pfad_generierte_bilder = 'results/faces_sd11/'\n",
    "\n",
    "# Gerät für die Berechnung angeben ('cuda:0' für GPU oder 'cpu' für CPU)\n",
    "geraet = torch.device('cuda:0' if torch.cuda.is_available() else 'cpu')\n",
    "\n",
    "# FID-Score berechnen\n",
    "fid_wert = fid_score.calculate_fid_given_paths([pfad_echte_bilder, pfad_generierte_bilder], batch_size=50, device=geraet, dims=2048)\n",
    "\n",
    "print(f'FID-Score: {fid_wert}')\n"
   ]
  }
 ],
 "metadata": {
  "kernelspec": {
   "display_name": "stable_diffusion",
   "language": "python",
   "name": "python3"
  },
  "language_info": {
   "codemirror_mode": {
    "name": "ipython",
    "version": 3
   },
   "file_extension": ".py",
   "mimetype": "text/x-python",
   "name": "python",
   "nbconvert_exporter": "python",
   "pygments_lexer": "ipython3",
   "version": "3.9.19"
  }
 },
 "nbformat": 4,
 "nbformat_minor": 2
}
