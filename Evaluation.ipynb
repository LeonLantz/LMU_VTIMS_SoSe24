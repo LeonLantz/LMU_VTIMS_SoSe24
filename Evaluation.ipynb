{
 "cells": [
  {
   "cell_type": "code",
   "execution_count": 1,
   "metadata": {},
   "outputs": [],
   "source": [
    "import os\n",
    "import cv2\n",
    "import numpy as np\n",
    "import shutil"
   ]
  },
  {
   "cell_type": "code",
   "execution_count": 4,
   "metadata": {
    "vscode": {
     "languageId": "shellscript"
    }
   },
   "outputs": [
    {
     "name": "stdout",
     "output_type": "stream",
     "text": [
      "FID:  40.43507424712914\n"
     ]
    },
    {
     "name": "stderr",
     "output_type": "stream",
     "text": [
      "\n",
      "  0%|          | 0/17 [00:00<?, ?it/s]\n",
      "  6%|▌         | 1/17 [00:03<00:58,  3.65s/it]\n",
      " 18%|█▊        | 3/17 [00:03<00:13,  1.01it/s]\n",
      " 29%|██▉       | 5/17 [00:03<00:06,  1.96it/s]\n",
      " 41%|████      | 7/17 [00:03<00:03,  3.16it/s]\n",
      " 53%|█████▎    | 9/17 [00:04<00:01,  4.59it/s]\n",
      " 65%|██████▍   | 11/17 [00:04<00:00,  6.23it/s]\n",
      " 76%|███████▋  | 13/17 [00:04<00:00,  7.99it/s]\n",
      " 88%|████████▊ | 15/17 [00:04<00:00,  9.76it/s]\n",
      "100%|██████████| 17/17 [00:04<00:00, 10.81it/s]\n",
      "100%|██████████| 17/17 [00:05<00:00,  3.33it/s]\n",
      "\n",
      "  0%|          | 0/17 [00:00<?, ?it/s]\n",
      "  6%|▌         | 1/17 [00:03<00:58,  3.68s/it]\n",
      " 24%|██▎       | 4/17 [00:03<00:09,  1.36it/s]\n",
      " 41%|████      | 7/17 [00:03<00:03,  2.73it/s]\n",
      " 59%|█████▉    | 10/17 [00:04<00:01,  4.39it/s]\n",
      " 76%|███████▋  | 13/17 [00:04<00:00,  6.30it/s]\n",
      " 94%|█████████▍| 16/17 [00:04<00:00,  8.39it/s]\n",
      "100%|██████████| 17/17 [00:04<00:00,  3.42it/s]\n"
     ]
    }
   ],
   "source": [
    "!python -m pytorch_fid results/realFaces0/ results/realFaces1/ --device cuda:0"
   ]
  }
 ],
 "metadata": {
  "kernelspec": {
   "display_name": "stable_diffusion",
   "language": "python",
   "name": "python3"
  },
  "language_info": {
   "codemirror_mode": {
    "name": "ipython",
    "version": 3
   },
   "file_extension": ".py",
   "mimetype": "text/x-python",
   "name": "python",
   "nbconvert_exporter": "python",
   "pygments_lexer": "ipython3",
   "version": "3.9.19"
  }
 },
 "nbformat": 4,
 "nbformat_minor": 2
}
