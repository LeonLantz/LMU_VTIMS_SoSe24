{
 "cells": [
  {
   "cell_type": "code",
   "execution_count": 1,
   "metadata": {},
   "outputs": [],
   "source": [
    "import os\n",
    "import cv2\n",
    "import numpy as np\n",
    "import shutil"
   ]
  },
  {
   "cell_type": "code",
   "execution_count": 4,
   "metadata": {
    "vscode": {
     "languageId": "shellscript"
    }
   },
   "outputs": [
    {
     "name": "stdout",
     "output_type": "stream",
     "text": [
      "FID:  38.197361162536254\n"
     ]
    },
    {
     "name": "stderr",
     "output_type": "stream",
     "text": [
      "\n",
      "  0%|          | 0/17 [00:00<?, ?it/s]\n",
      "  6%|▌         | 1/17 [00:03<00:56,  3.51s/it]\n",
      " 18%|█▊        | 3/17 [00:03<00:13,  1.05it/s]\n",
      " 35%|███▌      | 6/17 [00:03<00:04,  2.52it/s]\n",
      " 53%|█████▎    | 9/17 [00:03<00:01,  4.26it/s]\n",
      " 71%|███████   | 12/17 [00:04<00:00,  6.28it/s]\n",
      " 88%|████████▊ | 15/17 [00:04<00:00,  8.45it/s]\n",
      "100%|██████████| 17/17 [00:04<00:00,  9.61it/s]\n",
      "100%|██████████| 17/17 [00:04<00:00,  3.50it/s]\n",
      "\n",
      "  0%|          | 0/17 [00:00<?, ?it/s]\n",
      "  6%|▌         | 1/17 [00:02<00:47,  2.99s/it]\n",
      " 12%|█▏        | 2/17 [00:03<00:19,  1.30s/it]\n",
      " 29%|██▉       | 5/17 [00:03<00:04,  2.46it/s]\n",
      " 47%|████▋     | 8/17 [00:03<00:02,  4.46it/s]\n",
      " 65%|██████▍   | 11/17 [00:03<00:00,  6.68it/s]\n",
      " 82%|████████▏ | 14/17 [00:03<00:00,  9.02it/s]\n",
      "100%|██████████| 17/17 [00:03<00:00, 10.84it/s]\n",
      "100%|██████████| 17/17 [00:04<00:00,  3.90it/s]\n"
     ]
    }
   ],
   "source": [
    "!python -m pytorch_fid results/realFaces0/ results/realFaces1/ --device cuda:0"
   ]
  },
  {
   "cell_type": "code",
   "execution_count": 2,
   "metadata": {
    "vscode": {
     "languageId": "shellscript"
    }
   },
   "outputs": [
    {
     "name": "stdout",
     "output_type": "stream",
     "text": [
      "Warning: batch size is bigger than the data size. Setting batch size to data size\n",
      "Warning: batch size is bigger than the data size. Setting batch size to data size\n",
      "FID:  255.67303181281576\n"
     ]
    },
    {
     "name": "stderr",
     "output_type": "stream",
     "text": [
      "\n",
      "  0%|          | 0/1 [00:00<?, ?it/s]\n",
      "100%|██████████| 1/1 [00:03<00:00,  3.87s/it]\n",
      "100%|██████████| 1/1 [00:04<00:00,  4.43s/it]\n",
      "\n",
      "  0%|          | 0/1 [00:00<?, ?it/s]\n",
      "100%|██████████| 1/1 [00:03<00:00,  3.57s/it]\n",
      "100%|██████████| 1/1 [00:04<00:00,  4.12s/it]\n"
     ]
    }
   ],
   "source": [
    "!python -m pytorch_fid results/realFaces0/ results/facesGenerated_sdxl_0 --device cuda:0"
   ]
  }
 ],
 "metadata": {
  "kernelspec": {
   "display_name": "stable_diffusion",
   "language": "python",
   "name": "python3"
  },
  "language_info": {
   "codemirror_mode": {
    "name": "ipython",
    "version": 3
   },
   "file_extension": ".py",
   "mimetype": "text/x-python",
   "name": "python",
   "nbconvert_exporter": "python",
   "pygments_lexer": "ipython3",
   "version": "3.9.19"
  }
 },
 "nbformat": 4,
 "nbformat_minor": 2
}
